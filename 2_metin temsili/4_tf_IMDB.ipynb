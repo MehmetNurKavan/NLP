{
 "cells": [
  {
   "cell_type": "code",
   "execution_count": 1,
   "id": "f94d3229",
   "metadata": {},
   "outputs": [],
   "source": [
    "import pandas as pd\n",
    "from sklearn.feature_extraction.text import TfidfVectorizer"
   ]
  },
  {
   "cell_type": "code",
   "execution_count": 2,
   "id": "1f4c5b08",
   "metadata": {},
   "outputs": [],
   "source": [
    "df = pd.read_csv(\"IMDB Dataset.csv\")"
   ]
  },
  {
   "cell_type": "code",
   "execution_count": 4,
   "id": "818a6e71",
   "metadata": {},
   "outputs": [
    {
     "data": {
      "text/html": [
       "<div>\n",
       "<style scoped>\n",
       "    .dataframe tbody tr th:only-of-type {\n",
       "        vertical-align: middle;\n",
       "    }\n",
       "\n",
       "    .dataframe tbody tr th {\n",
       "        vertical-align: top;\n",
       "    }\n",
       "\n",
       "    .dataframe thead th {\n",
       "        text-align: right;\n",
       "    }\n",
       "</style>\n",
       "<table border=\"1\" class=\"dataframe\">\n",
       "  <thead>\n",
       "    <tr style=\"text-align: right;\">\n",
       "      <th></th>\n",
       "      <th>review</th>\n",
       "      <th>sentiment</th>\n",
       "    </tr>\n",
       "  </thead>\n",
       "  <tbody>\n",
       "    <tr>\n",
       "      <th>0</th>\n",
       "      <td>One of the other reviewers has mentioned that ...</td>\n",
       "      <td>positive</td>\n",
       "    </tr>\n",
       "    <tr>\n",
       "      <th>1</th>\n",
       "      <td>A wonderful little production. &lt;br /&gt;&lt;br /&gt;The...</td>\n",
       "      <td>positive</td>\n",
       "    </tr>\n",
       "    <tr>\n",
       "      <th>2</th>\n",
       "      <td>I thought this was a wonderful way to spend ti...</td>\n",
       "      <td>positive</td>\n",
       "    </tr>\n",
       "    <tr>\n",
       "      <th>3</th>\n",
       "      <td>Basically there's a family where a little boy ...</td>\n",
       "      <td>negative</td>\n",
       "    </tr>\n",
       "    <tr>\n",
       "      <th>4</th>\n",
       "      <td>Petter Mattei's \"Love in the Time of Money\" is...</td>\n",
       "      <td>positive</td>\n",
       "    </tr>\n",
       "  </tbody>\n",
       "</table>\n",
       "</div>"
      ],
      "text/plain": [
       "                                              review sentiment\n",
       "0  One of the other reviewers has mentioned that ...  positive\n",
       "1  A wonderful little production. <br /><br />The...  positive\n",
       "2  I thought this was a wonderful way to spend ti...  positive\n",
       "3  Basically there's a family where a little boy ...  negative\n",
       "4  Petter Mattei's \"Love in the Time of Money\" is...  positive"
      ]
     },
     "execution_count": 4,
     "metadata": {},
     "output_type": "execute_result"
    }
   ],
   "source": [
    "df.head()"
   ]
  },
  {
   "cell_type": "code",
   "execution_count": 5,
   "id": "c64a012e",
   "metadata": {},
   "outputs": [],
   "source": [
    "# tf-idf\n",
    "vectorizer = TfidfVectorizer()\n",
    "x = vectorizer.fit_transform(df[\"review\"])"
   ]
  },
  {
   "cell_type": "code",
   "execution_count": 7,
   "id": "56080daa",
   "metadata": {},
   "outputs": [],
   "source": [
    "# kelime kumesi\n",
    "feature_names = vectorizer.get_feature_names_out()\n",
    "tfidf_score = x.mean(axis= 0).A1 # ortlamaa tf-idf degeri"
   ]
  },
  {
   "cell_type": "code",
   "execution_count": 8,
   "id": "225bfd22",
   "metadata": {},
   "outputs": [],
   "source": [
    "df_tfidf = pd.DataFrame ({\"word\": feature_names, \"tfidf_score\": tfidf_score})"
   ]
  },
  {
   "cell_type": "code",
   "execution_count": 9,
   "id": "33dc6110",
   "metadata": {},
   "outputs": [],
   "source": [
    "df_tfidf_sorted = df_tfidf.sort_values(by = \"tfidf_score\", ascending = False)"
   ]
  },
  {
   "cell_type": "code",
   "execution_count": 10,
   "id": "b211bedc",
   "metadata": {},
   "outputs": [
    {
     "name": "stdout",
     "output_type": "stream",
     "text": [
      "               word   tfidf_score\n",
      "90160           the  1.695996e-01\n",
      "4541            and  8.568395e-02\n",
      "12041            br  7.690879e-02\n",
      "63757            of  7.620860e-02\n",
      "91217            to  7.179496e-02\n",
      "...             ...           ...\n",
      "93270   turnbuckles  3.163695e-07\n",
      "87550   superkicked  3.163695e-07\n",
      "87647     suplexing  3.163695e-07\n",
      "43660  hurracanrana  3.163695e-07\n",
      "36198        ganged  3.163695e-07\n",
      "\n",
      "[101895 rows x 2 columns]\n"
     ]
    }
   ],
   "source": [
    "print(df_tfidf_sorted)"
   ]
  },
  {
   "cell_type": "code",
   "execution_count": null,
   "id": "c27b5388",
   "metadata": {},
   "outputs": [],
   "source": []
  }
 ],
 "metadata": {
  "kernelspec": {
   "display_name": "base",
   "language": "python",
   "name": "python3"
  },
  "language_info": {
   "codemirror_mode": {
    "name": "ipython",
    "version": 3
   },
   "file_extension": ".py",
   "mimetype": "text/x-python",
   "name": "python",
   "nbconvert_exporter": "python",
   "pygments_lexer": "ipython3",
   "version": "3.10.15"
  }
 },
 "nbformat": 4,
 "nbformat_minor": 5
}
