{
 "cells": [
  {
   "cell_type": "markdown",
   "id": "8754ac1d",
   "metadata": {},
   "source": [
    "RNN"
   ]
  },
  {
   "cell_type": "code",
   "execution_count": 1,
   "id": "c4d571c3",
   "metadata": {},
   "outputs": [],
   "source": [
    "import numpy as np\n",
    "import pandas as pd\n",
    "\n",
    "from gensim.models import Word2Vec\n",
    "from keras_preprocessing.sequence import pad_sequences\n",
    "from keras.models import Sequential\n",
    "from keras.layers import SimpleRNN, Dense, Embedding\n",
    "from keras.preprocessing.text import Tokenizer\n",
    "from keras.callbacks import EarlyStopping\n",
    "\n",
    "from sklearn.model_selection import train_test_split\n",
    "from sklearn.preprocessing import LabelEncoder "
   ]
  },
  {
   "cell_type": "code",
   "execution_count": 2,
   "id": "d3467662",
   "metadata": {},
   "outputs": [],
   "source": [
    "# create dataset\n",
    "data = {\n",
    "    \"text\": [\n",
    "        \"Otelin konumu mükemmeldi, her yere yürüyerek ulaştık.\",\n",
    "        \"Çalışanlar çok soğuktu, kendimizi rahatsız hissettik.\",\n",
    "        \"Odalar çok temizdi, her gün düzenli temizlik yapıldı.\",\n",
    "        \"Kahvaltı çeşitleri çok azdı ve lezzetsizdi.\",\n",
    "        \"Manzara harikaydı, sabahları güneşin doğuşunu izlemek muhteşemdi.\",\n",
    "        \"Oda çok küçüktü, bavullarımızı bile zor açtık.\",\n",
    "        \"Spa ve sauna hizmetleri çok iyiydi, çok rahatladık.\",\n",
    "        \"Resepsiyondaki görevliler ilgisizdi, defalarca beklemek zorunda kaldık.\",\n",
    "        \"Yataklar çok rahattı, her gece deliksiz uyuduk.\",\n",
    "        \"Duş başlığı kırık ve su basıncı çok düşüktü.\",\n",
    "        \"Otel restoranı muazzamdı, yemeklerin tadı inanılmazdı.\",\n",
    "        \"Oda servisi çok yavaştı, bir sandviç için 1 saat bekledik.\",\n",
    "        \"Otelin bahçesi ve peyzajı harikaydı, adeta bir cennet.\",\n",
    "        \"Klimamız çalışmıyordu, sıcak yüzünden uyuyamadık.\",\n",
    "        \"Personel her konuda çok yardımcıydı, teşekkür ederiz.\",\n",
    "        \"Otel çok eskiydi, yenileme şart.\",\n",
    "        \"Havuz suyu temiz ve ılık, çocuklar da çok eğlendi.\",\n",
    "        \"Odada rutubet kokusu vardı, rahatsız ediciydi.\",\n",
    "        \"Giriş işlemleri çok hızlı yapıldı, beklemedik.\",\n",
    "        \"Minibar tamamen boştu, içecek bile yoktu.\",\n",
    "        \"Otel oldukça sessizdi, huzurlu bir tatil geçirdik.\",\n",
    "        \"Wi-Fi bağlantısı kopup duruyordu, çalışmak imkansızdı.\",\n",
    "        \"Yemeklerde hem çeşit boldu hem de hepsi çok lezzetliydi.\",\n",
    "        \"Kahvaltı salonu çok kalabalıktı, yer bulmakta zorlandık.\",\n",
    "        \"Çalışanlar çok güler yüzlü ve saygılıydı.\",\n",
    "        \"Odamızın penceresinden çöplük görünüyordu, çok kötüydü.\",\n",
    "        \"Denize sıfır konumdaydı, harika bir tatil geçirdik.\",\n",
    "        \"Check-in sırasında uzun süre beklemek zorunda kaldık.\",\n",
    "        \"Odaların dekorasyonu modern ve şıktı.\",\n",
    "        \"Restoran fiyatları gereksiz pahalıydı.\",\n",
    "        \"Çocuklar için oyun alanı çok geniş ve güvenliydi.\",\n",
    "        \"Asansör çok eskiydi ve korkutucuydu.\",\n",
    "        \"Otelin sunduğu turlar çok eğlenceliydi.\",\n",
    "        \"Odaya girdiğimizde yatak örtüsü kirliydi.\",\n",
    "        \"Müşteri hizmetleri sorunlarımızı anında çözdü.\",\n",
    "        \"Havuz çevresi çok kaygandı, tehlikeli olabilirdi.\",\n",
    "        \"Otelin lobisi çok şıktı ve ferah bir hava veriyordu.\",\n",
    "        \"Akşam yemeklerinde sürekli aynı yemekler çıkıyordu.\",\n",
    "        \"Otel personeli çok ilgiliydi, her ihtiyacımızı giderdiler.\",\n",
    "        \"Duşta sıcak su akmıyordu, zor anlar yaşadık.\",\n",
    "        \"Manzara fotoğraflardaki gibiydi, gerçek bir görsel şölen.\",\n",
    "        \"Yatak çarşaflarında lekeler vardı, değiştirmek zorunda kaldık.\",\n",
    "        \"Bahçe katı odalar böcek doluydu.\",\n",
    "        \"Otelin aktiviteleri çok çeşitli ve eğlenceliydi.\",\n",
    "        \"Oda kapımız tam kapanmıyordu, güvenlik sorunu vardı.\",\n",
    "        \"Deniz manzaralı odamız rüya gibiydi.\",\n",
    "        \"Oda servisi çok geç geldi, şikayet etmek zorunda kaldık.\",\n",
    "        \"Bar bölümündeki kokteyller çok başarılıydı.\",\n",
    "        \"Resepsiyonist çok kaba davrandı, hiç hoş değildi.\",\n",
    "        \"Konfor açısından otel mükemmeldi.\",\n",
    "        \"Banyo havluları yırtıktı, değiştirilmesi gerekiyor.\",\n",
    "        \"Otel plajı kumluydu ve çok temizdi.\",\n",
    "        \"Sıcak su sık sık kesiliyordu, çok rahatsız ediciydi.\",\n",
    "        \"Tatil boyunca hiç sorun yaşamadık, her şey çok güzeldi.\",\n",
    "        \"Asansör sürekli arızalanıyordu.\",\n",
    "        \"Her sabah oda servisi kahvaltımızı zamanında getirdi.\",\n",
    "        \"Koridorlar karanlık ve ürkütücüydü.\",\n",
    "        \"Tüm personel çok profesyoneldi.\",\n",
    "        \"Odada kötü bir koku vardı, havalandırmak zorunda kaldık.\",\n",
    "        \"Kumsalda ücretsiz şezlong olması büyük avantajdı.\",\n",
    "        \"Odaya ilk girdiğimizde çöp kovası doluydu.\",\n",
    "        \"Fitness salonu çok bakımsızdı, aletler çalışmıyordu.\",\n",
    "        \"Otel konsepti çocuklu aileler için çok uygundu.\",\n",
    "        \"Yemek saatlerinde restoran inanılmaz kalabalık oluyordu.\",\n",
    "        \"Her akşam farklı aktiviteler vardı, çok eğlendik.\",\n",
    "        \"Odalar fotoğraflardakinden çok farklıydı, hayal kırıklığı yaşadık.\",\n",
    "        \"Personel maske ve hijyen kurallarına dikkat ediyordu.\",\n",
    "        \"Havuz suyu bulanıktı, temiz değildi.\",\n",
    "        \"Otelin sunduğu kahvaltı açık büfe ve çok lezzetliydi.\",\n",
    "        \"Gece yarısı odada su kesildi, duş yapamadık.\",\n",
    "        \"Restoran bölümü manzaralı ve çok şıktı.\",\n",
    "        \"Klima kumandası çalışmıyordu, odamız sıcaktı.\",\n",
    "        \"Güler yüzlü personel sayesinde kendimizi çok özel hissettik.\",\n",
    "        \"Odada prizler çalışmıyordu, şarj sorunu yaşadık.\",\n",
    "        \"Havuz etrafı hijyenikti, sürekli temizlik yapılıyordu.\",\n",
    "        \"Otele girişte valizlerimiz ortada bekletildi.\",\n",
    "        \"Yataklar yeni ve çok rahattı.\",\n",
    "        \"Otel resepsiyonu çok karışıktı, kimse ne yaptığını bilmiyordu.\",\n",
    "        \"Akşam yemeği için canlı müzik vardı, çok keyifliydi.\",\n",
    "        \"Yatak odasında rutubet vardı, duvarlar nemliydi.\",\n",
    "        \"Çocuklar için animasyon gösterileri vardı, çok başarılıydı.\",\n",
    "        \"Restoran personeli çok ilgisizdi.\",\n",
    "        \"Otelin mimarisi modern ve şıktı.\",\n",
    "        \"Banyoda sıcak su geç geliyordu.\",\n",
    "        \"Deniz suyunun temizliği harikaydı.\",\n",
    "        \"Odalarda sinek vardı, rahat edemedik.\",\n",
    "        \"Otelin sunduğu shuttle hizmeti çok konforluydu.\",\n",
    "        \"Çarşaflar temiz ve mis gibi kokuyordu.\",\n",
    "        \"Oda kartı sürekli çalışmıyordu, değiştirmek zorunda kaldık.\",\n",
    "        \"Plajda yer bulmak çok zordu, yetersiz şezlong vardı.\",\n",
    "        \"Otel çalışanları sorunlara hızlı çözümler sundu.\",\n",
    "        \"Çocuk havuzu çok küçük ve yetersizdi.\",\n",
    "        \"Check-out işlemleri çok hızlıydı, beklemeden ayrıldık.\",\n",
    "        \"Çalışanlar İngilizce bilmiyordu, iletişim zor oldu.\",\n",
    "        \"Otel çevresi çok sessiz ve huzurluydu.\",\n",
    "        \"Girişte arabamız için vale hizmeti sunulmadı.\",\n",
    "        \"Otelin sabah kahvaltısı çok taze ve zengindi.\",\n",
    "        \"Banyoda küf vardı, temizlik yetersizdi.\",\n",
    "        \"Otelin ışıkları çok iyidi.\",\n",
    "        \"Banyoda duşjeli yoktu, yıkanamadık.\",\n",
    "    ],\n",
    "    \"label\": [\n",
    "        \"pozitif\", \"negatif\", \"pozitif\", \"negatif\", \n",
    "        \"pozitif\", \"negatif\", \"pozitif\", \"negatif\", \n",
    "        \"pozitif\", \"negatif\", \"pozitif\", \"negatif\", \n",
    "        \"pozitif\", \"negatif\", \"pozitif\", \"negatif\", \n",
    "        \"pozitif\", \"negatif\", \"pozitif\", \"negatif\",\n",
    "        \"pozitif\", \"negatif\", \"pozitif\", \"negatif\", \n",
    "        \"pozitif\", \"negatif\", \"pozitif\", \"negatif\", \n",
    "        \"pozitif\", \"negatif\", \"pozitif\", \"negatif\", \n",
    "        \"pozitif\", \"negatif\", \"pozitif\", \"negatif\", \n",
    "        \"pozitif\", \"negatif\", \"pozitif\", \"negatif\",\n",
    "        \"pozitif\", \"negatif\", \"pozitif\", \"negatif\", \n",
    "        \"pozitif\", \"negatif\", \"pozitif\", \"negatif\", \n",
    "        \"pozitif\", \"negatif\", \"pozitif\", \"negatif\", \n",
    "        \"pozitif\", \"negatif\", \"pozitif\", \"negatif\", \n",
    "        \"pozitif\", \"negatif\", \"pozitif\", \"negatif\",  \n",
    "        \"pozitif\", \"negatif\", \"pozitif\", \"negatif\", \n",
    "        \"pozitif\", \"negatif\", \"pozitif\", \"negatif\", \n",
    "        \"pozitif\", \"negatif\", \"pozitif\", \"negatif\", \n",
    "        \"pozitif\", \"negatif\", \"pozitif\", \"negatif\", \n",
    "        \"pozitif\", \"negatif\", \"pozitif\", \"negatif\", \n",
    "        \"pozitif\", \"negatif\", \"pozitif\", \"negatif\",\n",
    "        \"pozitif\", \"negatif\", \"pozitif\", \"negatif\", \n",
    "        \"pozitif\", \"negatif\", \"pozitif\", \"negatif\", \n",
    "        \"pozitif\", \"negatif\", \"pozitif\", \"negatif\", \n",
    "        \"pozitif\", \"negatif\", \"pozitif\", \"negatif\",\n",
    "    ]\n",
    "}"
   ]
  },
  {
   "cell_type": "code",
   "execution_count": 3,
   "id": "c0f21aea",
   "metadata": {},
   "outputs": [
    {
     "name": "stdout",
     "output_type": "stream",
     "text": [
      "100\n",
      "100\n"
     ]
    }
   ],
   "source": [
    "print(len(data[\"text\"]))   # 100 olmalı\n",
    "print(len(data[\"label\"]))  # 100 olmalı"
   ]
  },
  {
   "cell_type": "code",
   "execution_count": 4,
   "id": "6dff33cf",
   "metadata": {},
   "outputs": [],
   "source": [
    "df = pd.DataFrame(data)"
   ]
  },
  {
   "cell_type": "code",
   "execution_count": 5,
   "id": "f8d620b1",
   "metadata": {},
   "outputs": [
    {
     "data": {
      "text/html": [
       "<div>\n",
       "<style scoped>\n",
       "    .dataframe tbody tr th:only-of-type {\n",
       "        vertical-align: middle;\n",
       "    }\n",
       "\n",
       "    .dataframe tbody tr th {\n",
       "        vertical-align: top;\n",
       "    }\n",
       "\n",
       "    .dataframe thead th {\n",
       "        text-align: right;\n",
       "    }\n",
       "</style>\n",
       "<table border=\"1\" class=\"dataframe\">\n",
       "  <thead>\n",
       "    <tr style=\"text-align: right;\">\n",
       "      <th></th>\n",
       "      <th>text</th>\n",
       "      <th>label</th>\n",
       "    </tr>\n",
       "  </thead>\n",
       "  <tbody>\n",
       "    <tr>\n",
       "      <th>0</th>\n",
       "      <td>Otelin konumu mükemmeldi, her yere yürüyerek u...</td>\n",
       "      <td>pozitif</td>\n",
       "    </tr>\n",
       "    <tr>\n",
       "      <th>1</th>\n",
       "      <td>Çalışanlar çok soğuktu, kendimizi rahatsız his...</td>\n",
       "      <td>negatif</td>\n",
       "    </tr>\n",
       "    <tr>\n",
       "      <th>2</th>\n",
       "      <td>Odalar çok temizdi, her gün düzenli temizlik y...</td>\n",
       "      <td>pozitif</td>\n",
       "    </tr>\n",
       "    <tr>\n",
       "      <th>3</th>\n",
       "      <td>Kahvaltı çeşitleri çok azdı ve lezzetsizdi.</td>\n",
       "      <td>negatif</td>\n",
       "    </tr>\n",
       "    <tr>\n",
       "      <th>4</th>\n",
       "      <td>Manzara harikaydı, sabahları güneşin doğuşunu ...</td>\n",
       "      <td>pozitif</td>\n",
       "    </tr>\n",
       "  </tbody>\n",
       "</table>\n",
       "</div>"
      ],
      "text/plain": [
       "                                                text    label\n",
       "0  Otelin konumu mükemmeldi, her yere yürüyerek u...  pozitif\n",
       "1  Çalışanlar çok soğuktu, kendimizi rahatsız his...  negatif\n",
       "2  Odalar çok temizdi, her gün düzenli temizlik y...  pozitif\n",
       "3        Kahvaltı çeşitleri çok azdı ve lezzetsizdi.  negatif\n",
       "4  Manzara harikaydı, sabahları güneşin doğuşunu ...  pozitif"
      ]
     },
     "execution_count": 5,
     "metadata": {},
     "output_type": "execute_result"
    }
   ],
   "source": [
    "df.head()"
   ]
  },
  {
   "cell_type": "code",
   "execution_count": 6,
   "id": "2e538f62",
   "metadata": {},
   "outputs": [
    {
     "name": "stdout",
     "output_type": "stream",
     "text": [
      "Vocab size:  387\n"
     ]
    }
   ],
   "source": [
    "# metin verisi tokenize\n",
    "tokenizer = Tokenizer()\n",
    "tokenizer.fit_on_texts(df[\"text\"])\n",
    "sequences = tokenizer.texts_to_sequences(df[\"text\"])\n",
    "word_index = tokenizer.word_index\n",
    "print(\"Vocab size: \", len(word_index))"
   ]
  },
  {
   "cell_type": "code",
   "execution_count": 7,
   "id": "ebae2022",
   "metadata": {},
   "outputs": [
    {
     "name": "stdout",
     "output_type": "stream",
     "text": [
      "X shape:  (100, 10)\n"
     ]
    }
   ],
   "source": [
    "# padding process\n",
    "maxlen = max(len(seq) for seq in sequences)\n",
    "x = pad_sequences(sequences, maxlen = maxlen)\n",
    "print(\"X shape: \", x.shape)"
   ]
  },
  {
   "cell_type": "code",
   "execution_count": 8,
   "id": "76f27062",
   "metadata": {},
   "outputs": [
    {
     "name": "stdout",
     "output_type": "stream",
     "text": [
      "Y shape:  (100,)\n"
     ]
    }
   ],
   "source": [
    "# label encoding\n",
    "label_encoder = LabelEncoder()\n",
    "y = label_encoder.fit_transform(df[\"label\"])\n",
    "print(\"Y shape: \", y.shape)"
   ]
  },
  {
   "cell_type": "code",
   "execution_count": 9,
   "id": "b341ea5c",
   "metadata": {},
   "outputs": [],
   "source": [
    "# train-test split\n",
    "x_train, x_test, y_train, y_test = train_test_split(x, y, test_size = 0.3, random_state = 42)"
   ]
  },
  {
   "cell_type": "markdown",
   "id": "17e9a11f",
   "metadata": {},
   "source": [
    "word embeding: word2vec, embedding matrisi olusturma"
   ]
  },
  {
   "cell_type": "code",
   "execution_count": 10,
   "id": "e8c4c0ed",
   "metadata": {},
   "outputs": [
    {
     "name": "stdout",
     "output_type": "stream",
     "text": [
      "[['Otelin', 'konumu', 'mükemmeldi,', 'her', 'yere', 'yürüyerek', 'ulaştık.'], ['Çalışanlar', 'çok', 'soğuktu,', 'kendimizi', 'rahatsız', 'hissettik.'], ['Odalar', 'çok', 'temizdi,', 'her', 'gün', 'düzenli', 'temizlik', 'yapıldı.'], ['Kahvaltı', 'çeşitleri', 'çok', 'azdı', 've', 'lezzetsizdi.'], ['Manzara', 'harikaydı,', 'sabahları', 'güneşin', 'doğuşunu', 'izlemek', 'muhteşemdi.'], ['Oda', 'çok', 'küçüktü,', 'bavullarımızı', 'bile', 'zor', 'açtık.'], ['Spa', 've', 'sauna', 'hizmetleri', 'çok', 'iyiydi,', 'çok', 'rahatladık.'], ['Resepsiyondaki', 'görevliler', 'ilgisizdi,', 'defalarca', 'beklemek', 'zorunda', 'kaldık.'], ['Yataklar', 'çok', 'rahattı,', 'her', 'gece', 'deliksiz', 'uyuduk.'], ['Duş', 'başlığı', 'kırık', 've', 'su', 'basıncı', 'çok', 'düşüktü.'], ['Otel', 'restoranı', 'muazzamdı,', 'yemeklerin', 'tadı', 'inanılmazdı.'], ['Oda', 'servisi', 'çok', 'yavaştı,', 'bir', 'sandviç', 'için', '1', 'saat', 'bekledik.'], ['Otelin', 'bahçesi', 've', 'peyzajı', 'harikaydı,', 'adeta', 'bir', 'cennet.'], ['Klimamız', 'çalışmıyordu,', 'sıcak', 'yüzünden', 'uyuyamadık.'], ['Personel', 'her', 'konuda', 'çok', 'yardımcıydı,', 'teşekkür', 'ederiz.'], ['Otel', 'çok', 'eskiydi,', 'yenileme', 'şart.'], ['Havuz', 'suyu', 'temiz', 've', 'ılık,', 'çocuklar', 'da', 'çok', 'eğlendi.'], ['Odada', 'rutubet', 'kokusu', 'vardı,', 'rahatsız', 'ediciydi.'], ['Giriş', 'işlemleri', 'çok', 'hızlı', 'yapıldı,', 'beklemedik.'], ['Minibar', 'tamamen', 'boştu,', 'içecek', 'bile', 'yoktu.'], ['Otel', 'oldukça', 'sessizdi,', 'huzurlu', 'bir', 'tatil', 'geçirdik.'], ['Wi-Fi', 'bağlantısı', 'kopup', 'duruyordu,', 'çalışmak', 'imkansızdı.'], ['Yemeklerde', 'hem', 'çeşit', 'boldu', 'hem', 'de', 'hepsi', 'çok', 'lezzetliydi.'], ['Kahvaltı', 'salonu', 'çok', 'kalabalıktı,', 'yer', 'bulmakta', 'zorlandık.'], ['Çalışanlar', 'çok', 'güler', 'yüzlü', 've', 'saygılıydı.'], ['Odamızın', 'penceresinden', 'çöplük', 'görünüyordu,', 'çok', 'kötüydü.'], ['Denize', 'sıfır', 'konumdaydı,', 'harika', 'bir', 'tatil', 'geçirdik.'], ['Check-in', 'sırasında', 'uzun', 'süre', 'beklemek', 'zorunda', 'kaldık.'], ['Odaların', 'dekorasyonu', 'modern', 've', 'şıktı.'], ['Restoran', 'fiyatları', 'gereksiz', 'pahalıydı.'], ['Çocuklar', 'için', 'oyun', 'alanı', 'çok', 'geniş', 've', 'güvenliydi.'], ['Asansör', 'çok', 'eskiydi', 've', 'korkutucuydu.'], ['Otelin', 'sunduğu', 'turlar', 'çok', 'eğlenceliydi.'], ['Odaya', 'girdiğimizde', 'yatak', 'örtüsü', 'kirliydi.'], ['Müşteri', 'hizmetleri', 'sorunlarımızı', 'anında', 'çözdü.'], ['Havuz', 'çevresi', 'çok', 'kaygandı,', 'tehlikeli', 'olabilirdi.'], ['Otelin', 'lobisi', 'çok', 'şıktı', 've', 'ferah', 'bir', 'hava', 'veriyordu.'], ['Akşam', 'yemeklerinde', 'sürekli', 'aynı', 'yemekler', 'çıkıyordu.'], ['Otel', 'personeli', 'çok', 'ilgiliydi,', 'her', 'ihtiyacımızı', 'giderdiler.'], ['Duşta', 'sıcak', 'su', 'akmıyordu,', 'zor', 'anlar', 'yaşadık.'], ['Manzara', 'fotoğraflardaki', 'gibiydi,', 'gerçek', 'bir', 'görsel', 'şölen.'], ['Yatak', 'çarşaflarında', 'lekeler', 'vardı,', 'değiştirmek', 'zorunda', 'kaldık.'], ['Bahçe', 'katı', 'odalar', 'böcek', 'doluydu.'], ['Otelin', 'aktiviteleri', 'çok', 'çeşitli', 've', 'eğlenceliydi.'], ['Oda', 'kapımız', 'tam', 'kapanmıyordu,', 'güvenlik', 'sorunu', 'vardı.'], ['Deniz', 'manzaralı', 'odamız', 'rüya', 'gibiydi.'], ['Oda', 'servisi', 'çok', 'geç', 'geldi,', 'şikayet', 'etmek', 'zorunda', 'kaldık.'], ['Bar', 'bölümündeki', 'kokteyller', 'çok', 'başarılıydı.'], ['Resepsiyonist', 'çok', 'kaba', 'davrandı,', 'hiç', 'hoş', 'değildi.'], ['Konfor', 'açısından', 'otel', 'mükemmeldi.'], ['Banyo', 'havluları', 'yırtıktı,', 'değiştirilmesi', 'gerekiyor.'], ['Otel', 'plajı', 'kumluydu', 've', 'çok', 'temizdi.'], ['Sıcak', 'su', 'sık', 'sık', 'kesiliyordu,', 'çok', 'rahatsız', 'ediciydi.'], ['Tatil', 'boyunca', 'hiç', 'sorun', 'yaşamadık,', 'her', 'şey', 'çok', 'güzeldi.'], ['Asansör', 'sürekli', 'arızalanıyordu.'], ['Her', 'sabah', 'oda', 'servisi', 'kahvaltımızı', 'zamanında', 'getirdi.'], ['Koridorlar', 'karanlık', 've', 'ürkütücüydü.'], ['Tüm', 'personel', 'çok', 'profesyoneldi.'], ['Odada', 'kötü', 'bir', 'koku', 'vardı,', 'havalandırmak', 'zorunda', 'kaldık.'], ['Kumsalda', 'ücretsiz', 'şezlong', 'olması', 'büyük', 'avantajdı.'], ['Odaya', 'ilk', 'girdiğimizde', 'çöp', 'kovası', 'doluydu.'], ['Fitness', 'salonu', 'çok', 'bakımsızdı,', 'aletler', 'çalışmıyordu.'], ['Otel', 'konsepti', 'çocuklu', 'aileler', 'için', 'çok', 'uygundu.'], ['Yemek', 'saatlerinde', 'restoran', 'inanılmaz', 'kalabalık', 'oluyordu.'], ['Her', 'akşam', 'farklı', 'aktiviteler', 'vardı,', 'çok', 'eğlendik.'], ['Odalar', 'fotoğraflardakinden', 'çok', 'farklıydı,', 'hayal', 'kırıklığı', 'yaşadık.'], ['Personel', 'maske', 've', 'hijyen', 'kurallarına', 'dikkat', 'ediyordu.'], ['Havuz', 'suyu', 'bulanıktı,', 'temiz', 'değildi.'], ['Otelin', 'sunduğu', 'kahvaltı', 'açık', 'büfe', 've', 'çok', 'lezzetliydi.'], ['Gece', 'yarısı', 'odada', 'su', 'kesildi,', 'duş', 'yapamadık.'], ['Restoran', 'bölümü', 'manzaralı', 've', 'çok', 'şıktı.'], ['Klima', 'kumandası', 'çalışmıyordu,', 'odamız', 'sıcaktı.'], ['Güler', 'yüzlü', 'personel', 'sayesinde', 'kendimizi', 'çok', 'özel', 'hissettik.'], ['Odada', 'prizler', 'çalışmıyordu,', 'şarj', 'sorunu', 'yaşadık.'], ['Havuz', 'etrafı', 'hijyenikti,', 'sürekli', 'temizlik', 'yapılıyordu.'], ['Otele', 'girişte', 'valizlerimiz', 'ortada', 'bekletildi.'], ['Yataklar', 'yeni', 've', 'çok', 'rahattı.'], ['Otel', 'resepsiyonu', 'çok', 'karışıktı,', 'kimse', 'ne', 'yaptığını', 'bilmiyordu.'], ['Akşam', 'yemeği', 'için', 'canlı', 'müzik', 'vardı,', 'çok', 'keyifliydi.'], ['Yatak', 'odasında', 'rutubet', 'vardı,', 'duvarlar', 'nemliydi.'], ['Çocuklar', 'için', 'animasyon', 'gösterileri', 'vardı,', 'çok', 'başarılıydı.'], ['Restoran', 'personeli', 'çok', 'ilgisizdi.'], ['Otelin', 'mimarisi', 'modern', 've', 'şıktı.'], ['Banyoda', 'sıcak', 'su', 'geç', 'geliyordu.'], ['Deniz', 'suyunun', 'temizliği', 'harikaydı.'], ['Odalarda', 'sinek', 'vardı,', 'rahat', 'edemedik.'], ['Otelin', 'sunduğu', 'shuttle', 'hizmeti', 'çok', 'konforluydu.'], ['Çarşaflar', 'temiz', 've', 'mis', 'gibi', 'kokuyordu.'], ['Oda', 'kartı', 'sürekli', 'çalışmıyordu,', 'değiştirmek', 'zorunda', 'kaldık.'], ['Plajda', 'yer', 'bulmak', 'çok', 'zordu,', 'yetersiz', 'şezlong', 'vardı.'], ['Otel', 'çalışanları', 'sorunlara', 'hızlı', 'çözümler', 'sundu.'], ['Çocuk', 'havuzu', 'çok', 'küçük', 've', 'yetersizdi.'], ['Check-out', 'işlemleri', 'çok', 'hızlıydı,', 'beklemeden', 'ayrıldık.'], ['Çalışanlar', 'İngilizce', 'bilmiyordu,', 'iletişim', 'zor', 'oldu.'], ['Otel', 'çevresi', 'çok', 'sessiz', 've', 'huzurluydu.'], ['Girişte', 'arabamız', 'için', 'vale', 'hizmeti', 'sunulmadı.'], ['Otelin', 'sabah', 'kahvaltısı', 'çok', 'taze', 've', 'zengindi.'], ['Banyoda', 'küf', 'vardı,', 'temizlik', 'yetersizdi.'], ['Otelin', 'ışıkları', 'çok', 'iyidi.'], ['Banyoda', 'duşjeli', 'yoktu,', 'yıkanamadık.']]\n"
     ]
    }
   ],
   "source": [
    "sentences = [text.split() for text in df[\"text\"]]\n",
    "print(sentences)"
   ]
  },
  {
   "cell_type": "code",
   "execution_count": 11,
   "id": "513423e5",
   "metadata": {},
   "outputs": [],
   "source": [
    "word2vec_model = Word2Vec(sentences, vector_size = 64, window = 5, min_count = 1)"
   ]
  },
  {
   "cell_type": "code",
   "execution_count": 12,
   "id": "b6d577cb",
   "metadata": {},
   "outputs": [
    {
     "data": {
      "text/plain": [
       "array([[0., 0., 0., ..., 0., 0., 0.],\n",
       "       [0., 0., 0., ..., 0., 0., 0.],\n",
       "       [0., 0., 0., ..., 0., 0., 0.],\n",
       "       ...,\n",
       "       [0., 0., 0., ..., 0., 0., 0.],\n",
       "       [0., 0., 0., ..., 0., 0., 0.],\n",
       "       [0., 0., 0., ..., 0., 0., 0.]])"
      ]
     },
     "execution_count": 12,
     "metadata": {},
     "output_type": "execute_result"
    }
   ],
   "source": [
    "# içi 0 larla dolu matrix yapiyoruz\n",
    "embedding_dim =64\n",
    "embedding_matrix = np.zeros(( len(word_index) + 1, embedding_dim))\n",
    "embedding_matrix"
   ]
  },
  {
   "cell_type": "code",
   "execution_count": 13,
   "id": "7e805e7b",
   "metadata": {},
   "outputs": [
    {
     "data": {
      "text/plain": [
       "array([[ 0.00000000e+00,  0.00000000e+00,  0.00000000e+00, ...,\n",
       "         0.00000000e+00,  0.00000000e+00,  0.00000000e+00],\n",
       "       [-6.08499860e-04,  5.69149488e-05,  8.05266108e-03, ...,\n",
       "         4.38622752e-04, -6.37325738e-03, -1.19741773e-02],\n",
       "       [-2.08232505e-03,  3.58247152e-03, -1.31548976e-03, ...,\n",
       "         4.46957257e-03, -7.57963257e-03,  6.93820976e-03],\n",
       "       ...,\n",
       "       [ 0.00000000e+00,  0.00000000e+00,  0.00000000e+00, ...,\n",
       "         0.00000000e+00,  0.00000000e+00,  0.00000000e+00],\n",
       "       [ 2.68378295e-03, -1.14280023e-02, -1.49940746e-02, ...,\n",
       "        -3.77684855e-03, -1.21133951e-02,  1.07869916e-02],\n",
       "       [ 0.00000000e+00,  0.00000000e+00,  0.00000000e+00, ...,\n",
       "         0.00000000e+00,  0.00000000e+00,  0.00000000e+00]])"
      ]
     },
     "execution_count": 13,
     "metadata": {},
     "output_type": "execute_result"
    }
   ],
   "source": [
    "# içini dolduralim\n",
    "for word, i in word_index.items():\n",
    "    if word in word2vec_model.wv:\n",
    "        embedding_matrix[i] = word2vec_model.wv[word]\n",
    "\n",
    "embedding_matrix"
   ]
  },
  {
   "cell_type": "markdown",
   "id": "58e5ca92",
   "metadata": {},
   "source": [
    "Build RNN Model"
   ]
  },
  {
   "cell_type": "code",
   "execution_count": 14,
   "id": "167d4a98",
   "metadata": {},
   "outputs": [],
   "source": [
    "model = Sequential()\n",
    "model.add(Embedding(input_dim = len(word_index)+1, output_dim = embedding_dim, weights = [embedding_matrix], input_length = maxlen, trainable = False)) \n",
    "# ogrenme yok diye trainableyi false yaptik. eğitim RNN içinde olcak\n",
    "\n",
    "model.add(SimpleRNN(32, return_sequences= False))\n",
    "model.add(Dense(1, activation= \"sigmoid\"))\n",
    "\n",
    "model.compile(optimizer = \"adam\", loss = \"binary_crossentropy\", metrics = [\"accuracy\"])"
   ]
  },
  {
   "cell_type": "markdown",
   "id": "bbc5c8fb",
   "metadata": {},
   "source": [
    "Train RNN model"
   ]
  },
  {
   "cell_type": "code",
   "execution_count": 15,
   "id": "d11d07c9",
   "metadata": {},
   "outputs": [],
   "source": [
    "#early_stopping = EarlyStopping(monitor='val_loss', patience=2, restore_best_weights=True) # eklemeye gerek yok gibi amacmız gözlemlemek zaten"
   ]
  },
  {
   "cell_type": "code",
   "execution_count": 16,
   "id": "8212ae92",
   "metadata": {},
   "outputs": [
    {
     "name": "stdout",
     "output_type": "stream",
     "text": [
      "Epoch 1/20\n",
      "9/9 [==============================] - 2s 55ms/step - loss: 0.6929 - accuracy: 0.4429 - val_loss: 0.6975 - val_accuracy: 0.3667\n",
      "Epoch 2/20\n",
      "9/9 [==============================] - 0s 8ms/step - loss: 0.6879 - accuracy: 0.6143 - val_loss: 0.6986 - val_accuracy: 0.4333\n",
      "Epoch 3/20\n",
      "9/9 [==============================] - 0s 8ms/step - loss: 0.6833 - accuracy: 0.5857 - val_loss: 0.7006 - val_accuracy: 0.4333\n",
      "Epoch 4/20\n",
      "9/9 [==============================] - 0s 8ms/step - loss: 0.6794 - accuracy: 0.5714 - val_loss: 0.7081 - val_accuracy: 0.4000\n",
      "Epoch 5/20\n",
      "9/9 [==============================] - 0s 8ms/step - loss: 0.6727 - accuracy: 0.5857 - val_loss: 0.7063 - val_accuracy: 0.4667\n",
      "Epoch 6/20\n",
      "9/9 [==============================] - 0s 8ms/step - loss: 0.6654 - accuracy: 0.6000 - val_loss: 0.7117 - val_accuracy: 0.4333\n",
      "Epoch 7/20\n",
      "9/9 [==============================] - 0s 8ms/step - loss: 0.6580 - accuracy: 0.5857 - val_loss: 0.7162 - val_accuracy: 0.4333\n",
      "Epoch 8/20\n",
      "9/9 [==============================] - 0s 8ms/step - loss: 0.6433 - accuracy: 0.6571 - val_loss: 0.7121 - val_accuracy: 0.4667\n",
      "Epoch 9/20\n",
      "9/9 [==============================] - 0s 8ms/step - loss: 0.6258 - accuracy: 0.6714 - val_loss: 0.7171 - val_accuracy: 0.4667\n",
      "Epoch 10/20\n",
      "9/9 [==============================] - 0s 8ms/step - loss: 0.5998 - accuracy: 0.7000 - val_loss: 0.7131 - val_accuracy: 0.5333\n",
      "Epoch 11/20\n",
      "9/9 [==============================] - 0s 8ms/step - loss: 0.5739 - accuracy: 0.7000 - val_loss: 0.7199 - val_accuracy: 0.5333\n",
      "Epoch 12/20\n",
      "9/9 [==============================] - 0s 8ms/step - loss: 0.5391 - accuracy: 0.8143 - val_loss: 0.6953 - val_accuracy: 0.5667\n",
      "Epoch 13/20\n",
      "9/9 [==============================] - 0s 8ms/step - loss: 0.5090 - accuracy: 0.7571 - val_loss: 0.7723 - val_accuracy: 0.5333\n",
      "Epoch 14/20\n",
      "9/9 [==============================] - 0s 8ms/step - loss: 0.4672 - accuracy: 0.8000 - val_loss: 0.7328 - val_accuracy: 0.5333\n",
      "Epoch 15/20\n",
      "9/9 [==============================] - 0s 8ms/step - loss: 0.4335 - accuracy: 0.8429 - val_loss: 0.7766 - val_accuracy: 0.5667\n",
      "Epoch 16/20\n",
      "9/9 [==============================] - 0s 7ms/step - loss: 0.4099 - accuracy: 0.8286 - val_loss: 0.8437 - val_accuracy: 0.5333\n",
      "Epoch 17/20\n",
      "9/9 [==============================] - 0s 8ms/step - loss: 0.3783 - accuracy: 0.8571 - val_loss: 0.8318 - val_accuracy: 0.5333\n",
      "Epoch 18/20\n",
      "9/9 [==============================] - 0s 8ms/step - loss: 0.3725 - accuracy: 0.8429 - val_loss: 1.0205 - val_accuracy: 0.4667\n",
      "Epoch 19/20\n",
      "9/9 [==============================] - 0s 8ms/step - loss: 0.3440 - accuracy: 0.8429 - val_loss: 0.8698 - val_accuracy: 0.5667\n",
      "Epoch 20/20\n",
      "9/9 [==============================] - 0s 8ms/step - loss: 0.3306 - accuracy: 0.8714 - val_loss: 0.9661 - val_accuracy: 0.5000\n"
     ]
    },
    {
     "data": {
      "text/plain": [
       "<keras.src.callbacks.History at 0x1e91f417eb0>"
      ]
     },
     "execution_count": 16,
     "metadata": {},
     "output_type": "execute_result"
    }
   ],
   "source": [
    "model.fit(x_train, y_train, epochs = 20, batch_size = 8, validation_data = (x_test, y_test),)  #callbacks = [early_stopping]"
   ]
  },
  {
   "cell_type": "markdown",
   "id": "94b8673c",
   "metadata": {},
   "source": [
    "Evaluate RNN model"
   ]
  },
  {
   "cell_type": "code",
   "execution_count": 17,
   "id": "32992e34",
   "metadata": {},
   "outputs": [
    {
     "name": "stdout",
     "output_type": "stream",
     "text": [
      " \n",
      "1/1 [==============================] - 0s 25ms/step - loss: 0.9661 - accuracy: 0.5000\n",
      "Test loss:  0.9660879969596863\n",
      "Test accuracy:  0.5\n"
     ]
    }
   ],
   "source": [
    "print(\" \")\n",
    "loss, accuracy = model.evaluate(x_test, y_test)\n",
    "print(\"Test loss: \", loss)\n",
    "print(\"Test accuracy: \", accuracy)"
   ]
  },
  {
   "cell_type": "markdown",
   "id": "3596d16b",
   "metadata": {},
   "source": [
    "loss azalmiş, accuracy artmış bu ikssi doğru\\\n",
    "ama vall_loss azaltmasi gerekn yerde artmış, vall accuracy de sonaa azalmiş, bunu sebebi yetersiz veri setimizin olması"
   ]
  },
  {
   "cell_type": "markdown",
   "id": "0bf89f01",
   "metadata": {},
   "source": [
    "Cümle Sınıflandırma Çalışması"
   ]
  },
  {
   "cell_type": "code",
   "execution_count": 18,
   "id": "5977b31b",
   "metadata": {},
   "outputs": [],
   "source": [
    "def classify_sentence(sentence):\n",
    "    seq = tokenizer.texts_to_sequences([sentence])\n",
    "    padded_seq = pad_sequences(seq, maxlen = maxlen)\n",
    "\n",
    "    prediction = model.predict(padded_seq)\n",
    "    predicted_class = (prediction > 0.5).astype(int)\n",
    "    label = \"pozitif\" if predicted_class[0][0] == 1 else \"negatif\"\n",
    "    return label"
   ]
  },
  {
   "cell_type": "code",
   "execution_count": 19,
   "id": "a562097f",
   "metadata": {},
   "outputs": [
    {
     "name": "stdout",
     "output_type": "stream",
     "text": [
      "1/1 [==============================] - 0s 266ms/step\n",
      "Tahmin:  negatif\n"
     ]
    }
   ],
   "source": [
    "sentence = \"Odada klima çok gürültülüydü, rahatsız olduk\"\n",
    "result = classify_sentence(sentence)\n",
    "print(\"Tahmin: \", result)"
   ]
  },
  {
   "cell_type": "code",
   "execution_count": 20,
   "id": "bd76889d",
   "metadata": {},
   "outputs": [
    {
     "name": "stdout",
     "output_type": "stream",
     "text": [
      "1/1 [==============================] - 0s 21ms/step\n",
      "Tahmin:  pozitif\n"
     ]
    }
   ],
   "source": [
    "sentence = \"Otel çok temiz ve rahattı, çok memnun kaldık.\"\n",
    "result = classify_sentence(sentence)\n",
    "print(\"Tahmin: \", result)"
   ]
  },
  {
   "cell_type": "markdown",
   "id": "a80b0098",
   "metadata": {},
   "source": [
    "Ödev:\n",
    "Verisetini 1k yap bulursan\\\n",
    "test_size (0.1, 0.2, 0.3) gibi değiş\\\n",
    "SimpleRNN() deki cell sayisini değiştir(nöron sayimiz bu, ne kadar çok o kadar iyi öğrenir yada ezberler) \\\n",
    "epoch değiştir\\\n",
    "batch_siz değiştir\\"
   ]
  }
 ],
 "metadata": {
  "kernelspec": {
   "display_name": "base",
   "language": "python",
   "name": "python3"
  },
  "language_info": {
   "codemirror_mode": {
    "name": "ipython",
    "version": 3
   },
   "file_extension": ".py",
   "mimetype": "text/x-python",
   "name": "python",
   "nbconvert_exporter": "python",
   "pygments_lexer": "ipython3",
   "version": "3.10.15"
  }
 },
 "nbformat": 4,
 "nbformat_minor": 5
}
