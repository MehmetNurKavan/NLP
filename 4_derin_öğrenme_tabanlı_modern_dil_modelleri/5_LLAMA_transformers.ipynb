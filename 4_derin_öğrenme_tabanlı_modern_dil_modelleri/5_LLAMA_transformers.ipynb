{
 "cells": [
  {
   "cell_type": "markdown",
   "id": "a5b3b65f",
   "metadata": {},
   "source": [
    "Transformer for LLAMA"
   ]
  },
  {
   "cell_type": "code",
   "execution_count": null,
   "id": "66232ce4",
   "metadata": {},
   "outputs": [],
   "source": [
    "from transformers import AutoTokenizer, AutoModelForCausalLM"
   ]
  },
  {
   "cell_type": "markdown",
   "id": "e4449948",
   "metadata": {},
   "source": [
    "huggyllama/llama-7b modelini indiriyoruz, 10GB boyutunda"
   ]
  },
  {
   "cell_type": "code",
   "execution_count": null,
   "id": "e0501c30",
   "metadata": {},
   "outputs": [],
   "source": [
    "model_name = \"huggyllama/llama-7b\"\n",
    "tokenizer = AutoTokenizer.from_pretrained(model_name)\n",
    "model = AutoModelForCausalLM.from_pretrained(model_name)"
   ]
  },
  {
   "cell_type": "code",
   "execution_count": null,
   "id": "a48fb18d",
   "metadata": {},
   "outputs": [],
   "source": [
    "def fun(text):\n",
    "    # tokenization\n",
    "    inputs = tokenizer(text, return_tensors = \"pt\")\n",
    "    # metin üretimi\n",
    "    outputs =  model.generate(inputs, max_length = 10)\n",
    "    # decode\n",
    "    generated_text = tokenizer.decode(outputs[0], skip_special_tokens = True)\n",
    "    print(\"\")\n",
    "    print(generated_text)"
   ]
  },
  {
   "cell_type": "code",
   "execution_count": null,
   "id": "bce4680d",
   "metadata": {},
   "outputs": [],
   "source": [
    "fun(text = \"I go to park to\")"
   ]
  },
  {
   "cell_type": "code",
   "execution_count": null,
   "id": "80704851",
   "metadata": {},
   "outputs": [],
   "source": [
    "fun(text = \"I go to swim for\")"
   ]
  }
 ],
 "metadata": {
  "kernelspec": {
   "display_name": "base",
   "language": "python",
   "name": "python3"
  },
  "language_info": {
   "codemirror_mode": {
    "name": "ipython",
    "version": 3
   },
   "file_extension": ".py",
   "mimetype": "text/x-python",
   "name": "python",
   "nbconvert_exporter": "python",
   "pygments_lexer": "ipython3",
   "version": "3.10.15"
  }
 },
 "nbformat": 4,
 "nbformat_minor": 5
}
