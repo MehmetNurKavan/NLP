{
 "cells": [
  {
   "cell_type": "markdown",
   "id": "85c69f78",
   "metadata": {},
   "source": [
    "n-gram bağlamsal anlamda çok güçlü bir model değil, o yüzden çokkullanılaz ancak basit birşkilde kendisinden sonra yada önce gelenlerin frekasnına göre gekecek eklimenin olasılığını belirleyebiliyoruz"
   ]
  },
  {
   "cell_type": "code",
   "execution_count": 53,
   "id": "0e460477",
   "metadata": {},
   "outputs": [
    {
     "name": "stderr",
     "output_type": "stream",
     "text": [
      "[nltk_data] Downloading package punkt to C:\\Users\\Mehmet Nur\n",
      "[nltk_data]     Kavan\\AppData\\Roaming\\nltk_data...\n",
      "[nltk_data]   Package punkt is already up-to-date!\n"
     ]
    },
    {
     "data": {
      "text/plain": [
       "True"
      ]
     },
     "execution_count": 53,
     "metadata": {},
     "output_type": "execute_result"
    }
   ],
   "source": [
    "import nltk\n",
    "nltk.download('punkt')"
   ]
  },
  {
   "cell_type": "code",
   "execution_count": 54,
   "id": "ac989f2b",
   "metadata": {},
   "outputs": [],
   "source": [
    "from collections import Counter\n",
    "import nltk\n",
    "from nltk.util import ngrams\n",
    "from nltk.tokenize import word_tokenize"
   ]
  },
  {
   "cell_type": "code",
   "execution_count": 55,
   "id": "14a0c26e",
   "metadata": {},
   "outputs": [],
   "source": [
    "# ornek veri seti\n",
    "corpus = [\n",
    "    \"I love you\",\n",
    "    \"I love ROG\",\n",
    "    \"I love programming\",\n",
    "    \"You love me\",\n",
    "    \"She love ROG\",\n",
    "    \"They love you\",\n",
    "    \"I love you and you love me\"\n",
    "]"
   ]
  },
  {
   "cell_type": "code",
   "execution_count": 56,
   "id": "555ec431",
   "metadata": {},
   "outputs": [],
   "source": [
    "# tokenize\n",
    "#tokens = [word_tokenize(sentence.lower()) for sentence in corpus] #! hata veriyor\n",
    "tokens = [sentence.lower().split() for sentence in corpus]"
   ]
  },
  {
   "cell_type": "code",
   "execution_count": 57,
   "id": "6c711960",
   "metadata": {},
   "outputs": [
    {
     "data": {
      "text/plain": [
       "[['i', 'love', 'you'],\n",
       " ['i', 'love', 'rog'],\n",
       " ['i', 'love', 'programming'],\n",
       " ['you', 'love', 'me'],\n",
       " ['she', 'love', 'rog'],\n",
       " ['they', 'love', 'you'],\n",
       " ['i', 'love', 'you', 'and', 'you', 'love', 'me']]"
      ]
     },
     "execution_count": 57,
     "metadata": {},
     "output_type": "execute_result"
    }
   ],
   "source": [
    "tokens"
   ]
  },
  {
   "cell_type": "markdown",
   "id": "78c3030c",
   "metadata": {},
   "source": [
    "n-gram -> n:2"
   ]
  },
  {
   "cell_type": "code",
   "execution_count": 58,
   "id": "1b8a3bef",
   "metadata": {},
   "outputs": [],
   "source": [
    "bigrams = []\n",
    "for token_list in tokens:\n",
    "    bigrams.extend(list(ngrams(token_list, 2)))"
   ]
  },
  {
   "cell_type": "code",
   "execution_count": 59,
   "id": "2d212e2c",
   "metadata": {},
   "outputs": [
    {
     "data": {
      "text/plain": [
       "[('i', 'love'),\n",
       " ('love', 'you'),\n",
       " ('i', 'love'),\n",
       " ('love', 'rog'),\n",
       " ('i', 'love'),\n",
       " ('love', 'programming'),\n",
       " ('you', 'love'),\n",
       " ('love', 'me'),\n",
       " ('she', 'love'),\n",
       " ('love', 'rog'),\n",
       " ('they', 'love'),\n",
       " ('love', 'you'),\n",
       " ('i', 'love'),\n",
       " ('love', 'you'),\n",
       " ('you', 'and'),\n",
       " ('and', 'you'),\n",
       " ('you', 'love'),\n",
       " ('love', 'me')]"
      ]
     },
     "execution_count": 59,
     "metadata": {},
     "output_type": "execute_result"
    }
   ],
   "source": [
    "bigrams"
   ]
  },
  {
   "cell_type": "code",
   "execution_count": 60,
   "id": "f8d0d0e5",
   "metadata": {},
   "outputs": [],
   "source": [
    "bigrams_freq = Counter(bigrams)"
   ]
  },
  {
   "cell_type": "code",
   "execution_count": 61,
   "id": "fef64ea9",
   "metadata": {},
   "outputs": [
    {
     "data": {
      "text/plain": [
       "Counter({('i', 'love'): 4,\n",
       "         ('love', 'you'): 3,\n",
       "         ('love', 'rog'): 2,\n",
       "         ('you', 'love'): 2,\n",
       "         ('love', 'me'): 2,\n",
       "         ('love', 'programming'): 1,\n",
       "         ('she', 'love'): 1,\n",
       "         ('they', 'love'): 1,\n",
       "         ('you', 'and'): 1,\n",
       "         ('and', 'you'): 1})"
      ]
     },
     "execution_count": 61,
     "metadata": {},
     "output_type": "execute_result"
    }
   ],
   "source": [
    "bigrams_freq"
   ]
  },
  {
   "cell_type": "markdown",
   "id": "5d940434",
   "metadata": {},
   "source": [
    "n gram -> n:3"
   ]
  },
  {
   "cell_type": "code",
   "execution_count": 62,
   "id": "7eb5a225",
   "metadata": {},
   "outputs": [],
   "source": [
    "trigrams = []\n",
    "for token_list in tokens:\n",
    "    trigrams.extend(list(ngrams(token_list, 3)))"
   ]
  },
  {
   "cell_type": "code",
   "execution_count": 63,
   "id": "6d40d31a",
   "metadata": {},
   "outputs": [
    {
     "data": {
      "text/plain": [
       "[('i', 'love', 'you'),\n",
       " ('i', 'love', 'rog'),\n",
       " ('i', 'love', 'programming'),\n",
       " ('you', 'love', 'me'),\n",
       " ('she', 'love', 'rog'),\n",
       " ('they', 'love', 'you'),\n",
       " ('i', 'love', 'you'),\n",
       " ('love', 'you', 'and'),\n",
       " ('you', 'and', 'you'),\n",
       " ('and', 'you', 'love'),\n",
       " ('you', 'love', 'me')]"
      ]
     },
     "execution_count": 63,
     "metadata": {},
     "output_type": "execute_result"
    }
   ],
   "source": [
    "trigrams"
   ]
  },
  {
   "cell_type": "code",
   "execution_count": 64,
   "id": "e082ed97",
   "metadata": {},
   "outputs": [],
   "source": [
    "trigrams_freq = Counter(trigrams)"
   ]
  },
  {
   "cell_type": "code",
   "execution_count": 65,
   "id": "7de6fc84",
   "metadata": {},
   "outputs": [
    {
     "data": {
      "text/plain": [
       "Counter({('i', 'love', 'you'): 2,\n",
       "         ('you', 'love', 'me'): 2,\n",
       "         ('i', 'love', 'rog'): 1,\n",
       "         ('i', 'love', 'programming'): 1,\n",
       "         ('she', 'love', 'rog'): 1,\n",
       "         ('they', 'love', 'you'): 1,\n",
       "         ('love', 'you', 'and'): 1,\n",
       "         ('you', 'and', 'you'): 1,\n",
       "         ('and', 'you', 'love'): 1})"
      ]
     },
     "execution_count": 65,
     "metadata": {},
     "output_type": "execute_result"
    }
   ],
   "source": [
    "trigrams_freq"
   ]
  },
  {
   "cell_type": "code",
   "execution_count": 68,
   "id": "625a3765",
   "metadata": {},
   "outputs": [],
   "source": [
    "# \"i love\" den sonra \"you\" yada \"ROG\" gelem olasılığı\n",
    "bigram = (\"i\", \"love\")\n",
    "prob_you = trigrams_freq[(\"i\", \"love\", \"you\")]/bigrams_freq[bigram]\n",
    "prob_ROG = trigrams_freq[(\"i\", \"love\", \"rog\")]/bigrams_freq[bigram]"
   ]
  },
  {
   "cell_type": "code",
   "execution_count": 69,
   "id": "6bb416dd",
   "metadata": {},
   "outputs": [
    {
     "name": "stdout",
     "output_type": "stream",
     "text": [
      "\"you\" kelime olama olasiliği:  0.5\n",
      "\"ROG\" kelime olama olasiliği:  0.25\n"
     ]
    }
   ],
   "source": [
    "print('\"you\" kelime olama olasiliği: ', prob_you)\n",
    "print('\"ROG\" kelime olama olasiliği: ', prob_ROG)"
   ]
  }
 ],
 "metadata": {
  "kernelspec": {
   "display_name": "base",
   "language": "python",
   "name": "python3"
  },
  "language_info": {
   "codemirror_mode": {
    "name": "ipython",
    "version": 3
   },
   "file_extension": ".py",
   "mimetype": "text/x-python",
   "name": "python",
   "nbconvert_exporter": "python",
   "pygments_lexer": "ipython3",
   "version": "3.10.15"
  }
 },
 "nbformat": 4,
 "nbformat_minor": 5
}
