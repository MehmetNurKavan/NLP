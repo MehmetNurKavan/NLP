{
 "cells": [
  {
   "cell_type": "markdown",
   "id": "06002ab4",
   "metadata": {},
   "source": [
    "Hidden Markov Models (Gizli Markov Modelleri)"
   ]
  },
  {
   "cell_type": "code",
   "execution_count": 1,
   "id": "193a5c99",
   "metadata": {},
   "outputs": [],
   "source": [
    "import nltk\n",
    "from nltk.tag import hmm"
   ]
  },
  {
   "cell_type": "code",
   "execution_count": 2,
   "id": "c62ff838",
   "metadata": {},
   "outputs": [],
   "source": [
    "train_data = [\n",
    "    [(\"I\", \"PRP\"),(\"am\", \"VBP\"),(\"a\", \"DT\"),(\"student\", \"NN\")],\n",
    "    [(\"You\", \"PRP\"),(\"are\", \"VBP\"),(\"a\", \"DT\"),(\"teacher\", \"NN\")],\n",
    "]"
   ]
  },
  {
   "cell_type": "code",
   "execution_count": 3,
   "id": "6be85d43",
   "metadata": {},
   "outputs": [],
   "source": [
    "trainer = hmm.HiddenMarkovModelTrainer()\n",
    "hmm_tagger = trainer.train(train_data)"
   ]
  },
  {
   "cell_type": "code",
   "execution_count": 4,
   "id": "da7e6c76",
   "metadata": {},
   "outputs": [
    {
     "name": "stderr",
     "output_type": "stream",
     "text": [
      "c:\\Users\\Mehmet Nur Kavan\\anaconda3\\lib\\site-packages\\nltk\\tag\\hmm.py:333: RuntimeWarning: overflow encountered in cast\n",
      "  X[i, j] = self._transitions[si].logprob(self._states[j])\n",
      "c:\\Users\\Mehmet Nur Kavan\\anaconda3\\lib\\site-packages\\nltk\\tag\\hmm.py:335: RuntimeWarning: overflow encountered in cast\n",
      "  O[i, k] = self._output_logprob(si, self._symbols[k])\n",
      "c:\\Users\\Mehmet Nur Kavan\\anaconda3\\lib\\site-packages\\nltk\\tag\\hmm.py:331: RuntimeWarning: overflow encountered in cast\n",
      "  P[i] = self._priors.logprob(si)\n"
     ]
    }
   ],
   "source": [
    "test_sentence = \"I am a teacher\".split()\n",
    "tags = hmm_tagger.tag(test_sentence)"
   ]
  },
  {
   "cell_type": "code",
   "execution_count": 6,
   "id": "76ca7eea",
   "metadata": {},
   "outputs": [
    {
     "name": "stdout",
     "output_type": "stream",
     "text": [
      "etiketli cumle: [('I', 'PRP'), ('am', 'VBP'), ('a', 'DT'), ('teacher', 'NN')]\n"
     ]
    }
   ],
   "source": [
    "print(\"etiketli cumle:\", tags)"
   ]
  }
 ],
 "metadata": {
  "kernelspec": {
   "display_name": "base",
   "language": "python",
   "name": "python3"
  },
  "language_info": {
   "codemirror_mode": {
    "name": "ipython",
    "version": 3
   },
   "file_extension": ".py",
   "mimetype": "text/x-python",
   "name": "python",
   "nbconvert_exporter": "python",
   "pygments_lexer": "ipython3",
   "version": "3.10.15"
  }
 },
 "nbformat": 4,
 "nbformat_minor": 5
}
