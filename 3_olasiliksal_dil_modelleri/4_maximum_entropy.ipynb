{
 "cells": [
  {
   "cell_type": "markdown",
   "id": "31125e3a",
   "metadata": {},
   "source": [
    "MaxEnt (Maximum Entropy Modelleri)"
   ]
  },
  {
   "cell_type": "markdown",
   "id": "4234b77b",
   "metadata": {},
   "source": [
    "Entopy: bir dağilimin belirsizliğinin ölçümüdür\\\n",
    "Max Entroyp: en az ön yargıya sahip dağilimi temsil etmek için kullanilir"
   ]
  },
  {
   "cell_type": "markdown",
   "id": "0b0fbb5b",
   "metadata": {},
   "source": [
    "Bir yazının Olumlu-olumsuz olduğunu anlamak"
   ]
  },
  {
   "cell_type": "code",
   "execution_count": 39,
   "id": "b8ff09e4",
   "metadata": {},
   "outputs": [],
   "source": [
    "from nltk.classify import MaxentClassifier"
   ]
  },
  {
   "cell_type": "code",
   "execution_count": 40,
   "id": "409c0da7",
   "metadata": {},
   "outputs": [],
   "source": [
    "train_data = [\n",
    "    ({\"love\": True, \"amazing\": True}, \"positive\"),\n",
    "    ({\"hate\": True, \"terrible\": True}, \"negative\"),\n",
    "    ({\"happy\": True, \"joy\": True}, \"positive\"),\n",
    "    ({\"sad\":True, \"depressed\": True}, \"negative\")\n",
    "]"
   ]
  },
  {
   "cell_type": "markdown",
   "id": "55bb7e59",
   "metadata": {},
   "source": [
    "max ent classifier training"
   ]
  },
  {
   "cell_type": "code",
   "execution_count": 41,
   "id": "e666c834",
   "metadata": {},
   "outputs": [
    {
     "name": "stdout",
     "output_type": "stream",
     "text": [
      "  ==> Training (10 iterations)\n",
      "\n",
      "      Iteration    Log Likelihood    Accuracy\n",
      "      ---------------------------------------\n",
      "             1          -0.69315        0.500\n",
      "             2          -0.40547        1.000\n",
      "             3          -0.28768        1.000\n",
      "             4          -0.22314        1.000\n",
      "             5          -0.18232        1.000\n",
      "             6          -0.15415        1.000\n",
      "             7          -0.13353        1.000\n",
      "             8          -0.11778        1.000\n",
      "             9          -0.10536        1.000\n",
      "         Final          -0.09531        1.000\n"
     ]
    }
   ],
   "source": [
    "classifier = MaxentClassifier.train(train_data, max_iter = 10)"
   ]
  },
  {
   "cell_type": "markdown",
   "id": "22bc122e",
   "metadata": {},
   "source": [
    "test"
   ]
  },
  {
   "cell_type": "code",
   "execution_count": 42,
   "id": "3de2ceab",
   "metadata": {},
   "outputs": [],
   "source": [
    "test_sentence = \"I love this amazing movie\""
   ]
  },
  {
   "cell_type": "code",
   "execution_count": 43,
   "id": "d5caae95",
   "metadata": {},
   "outputs": [],
   "source": [
    "features = {word: (word in test_sentence.lower().split()) for word in [\"love\", \"amazing\", \"hate\",\"happy\", \"joy\", \"sad\", \"depressed\",]}"
   ]
  },
  {
   "cell_type": "code",
   "execution_count": 44,
   "id": "722165f1",
   "metadata": {},
   "outputs": [
    {
     "data": {
      "text/plain": [
       "{'love': True,\n",
       " 'amazing': True,\n",
       " 'hate': False,\n",
       " 'happy': False,\n",
       " 'joy': False,\n",
       " 'sad': False,\n",
       " 'depressed': False}"
      ]
     },
     "execution_count": 44,
     "metadata": {},
     "output_type": "execute_result"
    }
   ],
   "source": [
    "features"
   ]
  },
  {
   "cell_type": "code",
   "execution_count": 45,
   "id": "1b976780",
   "metadata": {},
   "outputs": [
    {
     "name": "stdout",
     "output_type": "stream",
     "text": [
      "positive\n"
     ]
    }
   ],
   "source": [
    "label = classifier.classify(features)\n",
    "print(label)"
   ]
  },
  {
   "cell_type": "markdown",
   "id": "e94c9ece",
   "metadata": {},
   "source": [
    "fonksiyonla kullanim"
   ]
  },
  {
   "cell_type": "code",
   "execution_count": 46,
   "id": "df6a5c17",
   "metadata": {},
   "outputs": [],
   "source": [
    "def fonksiyon(test_sentence):\n",
    "    features = {word: (word in test_sentence.lower().split()) for word in [\"love\", \"amazing\", \"hate\",\"happy\", \"joy\", \"sad\", \"depressed\",]}\n",
    "    label = classifier.classify(features)\n",
    "    \n",
    "    print(\"dağılım:\", features)\n",
    "    print(\"duygu:\", label)"
   ]
  },
  {
   "cell_type": "code",
   "execution_count": 47,
   "id": "1d70ea4e",
   "metadata": {},
   "outputs": [
    {
     "name": "stdout",
     "output_type": "stream",
     "text": [
      "dağılım: {'love': False, 'amazing': False, 'hate': True, 'happy': False, 'joy': False, 'sad': False, 'depressed': False}\n",
      "duygu: negative\n"
     ]
    }
   ],
   "source": [
    "fonksiyon(\"I hate this bad movie\")"
   ]
  },
  {
   "cell_type": "code",
   "execution_count": 48,
   "id": "f5351d8b",
   "metadata": {},
   "outputs": [
    {
     "name": "stdout",
     "output_type": "stream",
     "text": [
      "dağılım: {'love': True, 'amazing': True, 'hate': False, 'happy': False, 'joy': False, 'sad': False, 'depressed': False}\n",
      "duygu: positive\n"
     ]
    }
   ],
   "source": [
    "fonksiyon(\"I love this amazing moviee\")"
   ]
  },
  {
   "cell_type": "code",
   "execution_count": 49,
   "id": "5b73610b",
   "metadata": {},
   "outputs": [
    {
     "name": "stdout",
     "output_type": "stream",
     "text": [
      "dağılım: {'love': False, 'amazing': False, 'hate': False, 'happy': False, 'joy': False, 'sad': False, 'depressed': False}\n",
      "duygu: positive\n"
     ]
    }
   ],
   "source": [
    "fonksiyon(\"I do not like this movie\") #! hatalı yapti çünkü verimiz az"
   ]
  },
  {
   "cell_type": "code",
   "execution_count": null,
   "id": "92ece179",
   "metadata": {},
   "outputs": [],
   "source": []
  }
 ],
 "metadata": {
  "kernelspec": {
   "display_name": "base",
   "language": "python",
   "name": "python3"
  },
  "language_info": {
   "codemirror_mode": {
    "name": "ipython",
    "version": 3
   },
   "file_extension": ".py",
   "mimetype": "text/x-python",
   "name": "python",
   "nbconvert_exporter": "python",
   "pygments_lexer": "ipython3",
   "version": "3.10.15"
  }
 },
 "nbformat": 4,
 "nbformat_minor": 5
}
