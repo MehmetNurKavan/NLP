{
 "cells": [
  {
   "cell_type": "markdown",
   "id": "026670c4",
   "metadata": {},
   "source": [
    "Gereklü kütüphaneleri yükleyelim\\\n",
    "not: numpy 2.0 den düşük olamalı ki diğer kütüphanelerele uyumlu olsun"
   ]
  },
  {
   "cell_type": "code",
   "execution_count": null,
   "id": "737a2db1",
   "metadata": {},
   "outputs": [],
   "source": [
    "!pip install numpy==1.23.5"
   ]
  },
  {
   "cell_type": "code",
   "execution_count": null,
   "id": "ee62fa0f",
   "metadata": {},
   "outputs": [],
   "source": [
    "!pip install pandas==1.5.3"
   ]
  },
  {
   "cell_type": "code",
   "execution_count": null,
   "id": "340d0946",
   "metadata": {},
   "outputs": [],
   "source": [
    "!pip install scikit-learn==1.2.2"
   ]
  },
  {
   "cell_type": "code",
   "execution_count": null,
   "id": "9ab12c91",
   "metadata": {},
   "outputs": [],
   "source": [
    "!pip install spacy==3.5.3"
   ]
  },
  {
   "cell_type": "code",
   "execution_count": null,
   "id": "f14bffa3",
   "metadata": {},
   "outputs": [],
   "source": [
    "!pip install pywsd==1.2.4"
   ]
  },
  {
   "cell_type": "code",
   "execution_count": null,
   "id": "4914086b",
   "metadata": {},
   "outputs": [],
   "source": [
    "!python -m spacy download en_core_web_sm"
   ]
  },
  {
   "cell_type": "code",
   "execution_count": null,
   "id": "85676150",
   "metadata": {},
   "outputs": [],
   "source": [
    "# NLTK VERİLERİNİ İNDİR\n",
    "import nltk\n",
    "\n",
    "nltk.download(\"wordnet\")                          # WordNet verisi\n",
    "nltk.download(\"omw-1.4\")                          # WordNet çok dilli destek\n",
    "nltk.download(\"punkt\")                            # Tokenizer\n",
    "nltk.download(\"averaged_perceptron_tagger\")       # POS tagger\n",
    "nltk.download(\"averaged_perceptron_tagger_eng\")   # \"averaged_perceptron_tagger_eng\" hatası alıyorsan, o zaman deneyebilirsin, pywsd gibi bazı kütüphaneler bunu istiyormuş gibi görünse de, aslında averaged_perceptron_tagger yeterlidir."
   ]
  },
  {
   "cell_type": "code",
   "execution_count": null,
   "id": "d1640dee",
   "metadata": {},
   "outputs": [],
   "source": [
    "# bakalim tüm kodlar sorunsuz çalışıyor mu\n",
    "import pandas as pd\n",
    "import spacy\n",
    "\n",
    "nlp = spacy.load(\"en_core_web_sm\")\n",
    "\n",
    "import nltk\n",
    "from nltk.wsd import lesk\n",
    "\n",
    "from pywsd.lesk import simple_lesk, adapted_lesk, cosine_lesk"
   ]
  },
  {
   "cell_type": "code",
   "execution_count": null,
   "id": "976e21d7",
   "metadata": {},
   "outputs": [],
   "source": [
    "# versiyon kontolü\n",
    "import numpy as np\n",
    "import spacy\n",
    "import sklearn\n",
    "import pandas as pd\n",
    "import matplotlib\n",
    "import pywsd\n",
    "import nltk\n",
    "\n",
    "# Kütüphanelerin sürümlerini yazdır\n",
    "print(f\"numpy version: {np.__version__}\")\n",
    "print(f\"spaCy version: {spacy.__version__}\")\n",
    "print(f\"scikit-learn version: {sklearn.__version__}\")\n",
    "print(f\"pandas version: {pd.__version__}\")\n",
    "print(f\"matplotlib version: {matplotlib.__version__}\")\n",
    "print(f\"pywsd version: {pywsd.__version__}\")\n",
    "print(f\"nltk version: {nltk.__version__}\")"
   ]
  },
  {
   "cell_type": "code",
   "execution_count": null,
   "id": "0d8331b3",
   "metadata": {},
   "outputs": [],
   "source": [
    "# Test örneği\n",
    "sentence = \"I went to the bank to fish.\"\n",
    "word = \"bank\"\n",
    "\n",
    "# NLTK Lesk algoritması\n",
    "print(lesk(sentence.split(), word))  # NLTK Lesk\n",
    " \n",
    "# PyWSD Lesk algoritmaları\n",
    "print(simple_lesk(sentence, word))   # Simple Lesk\n",
    "print(adapted_lesk(sentence, word))  # Adapted Lesk\n",
    "print(cosine_lesk(sentence, word))   # Cosine Lesk\n"
   ]
  }
 ],
 "metadata": {
  "kernelspec": {
   "display_name": "base",
   "language": "python",
   "name": "python3"
  },
  "language_info": {
   "codemirror_mode": {
    "name": "ipython",
    "version": 3
   },
   "file_extension": ".py",
   "mimetype": "text/x-python",
   "name": "python",
   "nbconvert_exporter": "python",
   "pygments_lexer": "ipython3",
   "version": "3.10.15"
  }
 },
 "nbformat": 4,
 "nbformat_minor": 5
}
